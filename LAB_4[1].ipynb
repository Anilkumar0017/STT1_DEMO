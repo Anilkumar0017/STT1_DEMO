{
  "cells": [
    {
      "cell_type": "code",
      "execution_count": 1,
      "metadata": {
        "colab": {
          "base_uri": "https://localhost:8080/"
        },
        "id": "deQ4VQqSay6Q",
        "outputId": "1c74ab73-24ca-44cf-fb4f-08cadfe03499"
      },
      "outputs": [
        {
          "name": "stdout",
          "output_type": "stream",
          "text": [
            "Requirement already satisfied: pydriller in c:\\users\\grace\\appdata\\local\\programs\\python\\python312\\lib\\site-packages (2.8)\n",
            "Requirement already satisfied: gitpython in c:\\users\\grace\\appdata\\local\\programs\\python\\python312\\lib\\site-packages (from pydriller) (3.1.45)\n",
            "Requirement already satisfied: pytz in c:\\users\\grace\\appdata\\local\\programs\\python\\python312\\lib\\site-packages (from pydriller) (2025.2)\n",
            "Requirement already satisfied: types-pytz in c:\\users\\grace\\appdata\\local\\programs\\python\\python312\\lib\\site-packages (from pydriller) (2025.2.0.20250809)\n",
            "Requirement already satisfied: lizard==1.17.10 in c:\\users\\grace\\appdata\\local\\programs\\python\\python312\\lib\\site-packages (from pydriller) (1.17.10)\n",
            "Requirement already satisfied: gitdb<5,>=4.0.1 in c:\\users\\grace\\appdata\\local\\programs\\python\\python312\\lib\\site-packages (from gitpython->pydriller) (4.0.12)\n",
            "Requirement already satisfied: smmap<6,>=3.0.1 in c:\\users\\grace\\appdata\\local\\programs\\python\\python312\\lib\\site-packages (from gitdb<5,>=4.0.1->gitpython->pydriller) (5.0.2)\n"
          ]
        },
        {
          "name": "stderr",
          "output_type": "stream",
          "text": [
            "\n",
            "[notice] A new release of pip is available: 23.2.1 -> 25.2\n",
            "[notice] To update, run: python.exe -m pip install --upgrade pip\n"
          ]
        }
      ],
      "source": [
        "! pip install pydriller"
      ]
    },
    {
      "cell_type": "code",
      "execution_count": 2,
      "metadata": {
        "colab": {
          "base_uri": "https://localhost:8080/"
        },
        "id": "ZL6EAxuhbalA",
        "outputId": "804b52ce-b209-4a9f-e82f-bf65b726aad0"
      },
      "outputs": [
        {
          "name": "stderr",
          "output_type": "stream",
          "text": [
            "Cloning into 'molecule'...\n",
            "Cloning into 'sqlparse'...\n",
            "Cloning into 'tacticalrmm'...\n"
          ]
        }
      ],
      "source": [
        "! git clone https://github.com/ansible/molecule\n",
        "! git clone https://github.com/andialbrecht/sqlparse\n",
        "! git clone https://github.com/amidaware/tacticalrmm"
      ]
    },
    {
      "cell_type": "code",
      "execution_count": null,
      "metadata": {},
      "outputs": [],
      "source": []
    },
    {
      "cell_type": "code",
      "execution_count": 22,
      "metadata": {
        "colab": {
          "base_uri": "https://localhost:8080/",
          "height": 382
        },
        "id": "pWQ6GgbSbreR",
        "outputId": "64bb597c-6357-4bd3-83a7-58695025a79b"
      },
      "outputs": [
        {
          "name": "stdout",
          "output_type": "stream",
          "text": [
            "Mining: https://github.com/ansible/molecule.git\n",
            "Mining: https://github.com/andialbrecht/sqlparse.git\n",
            "Mining: https://github.com/amidaware/tacticalrmm.git\n",
            "✅ Mining complete. Results saved to data/raw_commits.csv\n"
          ]
        }
      ],
      "source": [
        "from pydriller import Repository\n",
        "import csv, os\n",
        "\n",
        "# Repositories (using GitHub links directly)\n",
        "repos = [\n",
        "    \"https://github.com/ansible/molecule.git\",\n",
        "    \"https://github.com/andialbrecht/sqlparse.git\",\n",
        "    \"https://github.com/amidaware/tacticalrmm.git\"\n",
        "]\n",
        "\n",
        "# Ensure \"data\" folder exists\n",
        "os.makedirs(\"data\", exist_ok=True)\n",
        "\n",
        "# Output CSV\n",
        "out_file = \"data/raw_commits.csv\"\n",
        "\n",
        "with open(out_file, \"w\", newline=\"\", encoding=\"utf-8\") as fh:\n",
        "    writer = csv.writer(fh)\n",
        "    writer.writerow(['repo', 'commit_sha', 'parent_sha', 'commit_msg', 'old_path', 'new_path'])\n",
        "\n",
        "    for repo in repos:\n",
        "        print(\"Mining:\", repo)\n",
        "        for commit in Repository(path_to_repo=repo).traverse_commits():\n",
        "            if not commit.parents:   # skip root commits\n",
        "                continue\n",
        "            parent_sha = commit.parents[0]\n",
        "            for mod in commit.modified_files:  # ✅ updated here\n",
        "                writer.writerow([\n",
        "                    repo.split(\"/\")[-1].replace(\".git\",\"\"),  # repo name from URL\n",
        "                    commit.hash,\n",
        "                    parent_sha,\n",
        "                    commit.msg.replace('\\n', ' '),\n",
        "                    mod.old_path,\n",
        "                    mod.new_path\n",
        "                ])\n",
        "\n",
        "print(f\"✅ Mining complete. Results saved to {out_file}\")\n",
        "\n"
      ]
    },
    {
      "cell_type": "code",
      "execution_count": 36,
      "metadata": {
        "colab": {
          "base_uri": "https://localhost:8080/",
          "height": 452
        },
        "id": "bw8MtbGncC-e",
        "outputId": "9fcc9be2-45fc-4e4f-aea7-82fce4d6520d"
      },
      "outputs": [
        {
          "data": {
            "image/png": "[encoded data removed]",
            "text/plain": [
              "<Figure size 800x500 with 1 Axes>"
            ]
          },
          "metadata": {},
          "output_type": "display_data"
        }
      ],
      "source": [
        "import pandas as pd\n",
        "import matplotlib.pyplot as plt\n",
        "import numpy as np # Import numpy for the np.where function\n",
        "\n",
        "# Load dataset\n",
        "df = pd.read_csv(r\"C:\\Users\\Grace\\OneDrive\\Desktop\\lab\\raw_commits.csv\")\n",
        "\n",
        "# Clean column names: strip spaces and lowercase\n",
        "df.columns = df.columns.str.strip().str.lower()\n",
        "\n",
        "# --- STEP 1: DEFINE THE DISCREPANCY ---\n",
        "# We see there is no 'discrepancy' column.\n",
        "# Let's define a discrepancy as a file being renamed (when old_path is different from new_path).\n",
        "# We will create a new column called 'discrepancy' to hold this information.\n",
        "# np.where is a fast way to do an if-else operation to create a new column.\n",
        "df['discrepancy'] = np.where(df['old_path'] != df['new_path'], 'Yes', 'No')\n",
        "\n",
        "\n",
        "# --- STEP 2: USE THE CORRECT COLUMN NAMES ---\n",
        "# Now we can set our variables to the correct names.\n",
        "# 'new_path' is our file path column.\n",
        "# 'discrepancy' is the column we just created.\n",
        "file_path_col = 'new_path'\n",
        "discrepancy_col = 'discrepancy'\n",
        "\n",
        "\n",
        "# --- The rest of your code now works perfectly ---\n",
        "\n",
        "# Filters based on file types and keywords\n",
        "# Using .astype(str) to prevent errors if some paths are not strings\n",
        "source_code = df[df[file_path_col].astype(str).str.endswith(('.py', '.java', '.c', '.cpp', '.kts', '.sh', '.js'), na=False)]\n",
        "tests       = df[df[file_path_col].astype(str).str.contains(\"test\", case=False, na=False)]\n",
        "readme      = df[df[file_path_col].astype(str).str.contains(\"readme\", case=False, na=False)]\n",
        "license_f   = df[df[file_path_col].astype(str).str.contains(\"license\", case=False, na=False)]\n",
        "\n",
        "# Count mismatches (which we have defined as renames)\n",
        "stats = {\n",
        "    \"Source Code\": (source_code[discrepancy_col] == \"Yes\").sum(),\n",
        "    \"Test Code\": (tests[discrepancy_col] == \"Yes\").sum(),\n",
        "    \"README\": (readme[discrepancy_col] == \"Yes\").sum(),\n",
        "    \"LICENSE\": (license_f[discrepancy_col] == \"Yes\").sum(),\n",
        "}\n",
        "\n",
        "# Plot\n",
        "plt.figure(figsize=(8,5))\n",
        "bars = plt.bar(stats.keys(), stats.values(), color=['skyblue', 'orange', 'green', 'red'])\n",
        "plt.ylabel(\"# Renamed Files (Discrepancy)\")\n",
        "plt.title(\"Analysis of Renamed Files Across Types\")\n",
        "\n",
        "# Show counts on top of bars\n",
        "for bar in bars:\n",
        "    yval = bar.get_height()\n",
        "    plt.text(bar.get_x() + bar.get_width()/2, yval + 0.5, int(yval), ha='center', va='bottom')\n",
        "\n",
        "plt.tight_layout()\n",
        "plt.show()"
      ]
    },
    {
      "cell_type": "code",
      "execution_count": null,
      "metadata": {
        "id": "ljJ4gBGNdRTl"
      },
      "outputs": [],
      "source": []
    }
  ],
  "metadata": {
    "colab": {
      "provenance": []
    },
    "kernelspec": {
      "display_name": "Python 3",
      "name": "python3"
    },
    "language_info": {
      "codemirror_mode": {
        "name": "ipython",
        "version": 3
      },
      "file_extension": ".py",
      "mimetype": "text/x-python",
      "name": "python",
      "nbconvert_exporter": "python",
      "pygments_lexer": "ipython3",
      "version": "3.12.1"
    }
  },
  "nbformat": 4,
  "nbformat_minor": 0
}
